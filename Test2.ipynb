{
 "cells": [
  {
   "cell_type": "markdown",
   "id": "substantial-impact",
   "metadata": {},
   "source": [
    "# Proyecto Final - Álgebra para Ingeniería"
   ]
  },
  {
   "cell_type": "markdown",
   "id": "first-armenia",
   "metadata": {},
   "source": [
    "Este es un ambiente donde se podrá desarrollar los distintos aspectos de la librería *Manim* en el lenguaje Python. Todo el proceso y los pasos para desbloquear el potencial de Manim estarán detallados a lo largo de las líneas del código.\n",
    "\n",
    "> *Useful resources:* [Documentation de Manim](https://docs.manim.community), [Página Web Manim](https://www.manim.community/), [GitHub](https://www.reddit.com/r/manim/)"
   ]
  },
  {
   "cell_type": "markdown",
   "id": "honest-cruise",
   "metadata": {},
   "source": [
    "## Configuración"
   ]
  },
  {
   "cell_type": "markdown",
   "id": "governing-increase",
   "metadata": {},
   "source": [
    "Para poder empezar a usar las propiedades de Manim, primero es necesario importar todo desde la *Libreria*. Ejecutar la siguiente celda, permitira la descarga de todos los recursos necesarios.\n",
    "\n",
    "La segunda línea de código controla la *anchura* del video renderizado. Puede adaptarse a tus preferencias."
   ]
  },
  {
   "cell_type": "code",
   "execution_count": null,
   "id": "wound-foundation",
   "metadata": {},
   "outputs": [],
   "source": [
    "%pip install manim\n",
    "\n",
    "import manim as mn\n",
    "from manim import *\n",
    "\n",
    "config.media_width = \"75%\"\n",
    "config.verbosity = \"WARNING\"\n",
    "\n",
    "print(mn.__version__)"
   ]
  },
  {
   "cell_type": "markdown",
   "id": "respected-copying",
   "metadata": {},
   "source": [
    "Si la celda fue ejecutada correctamente, un mensaje de la versión de la librería debería aparecer debajo."
   ]
  },
  {
   "cell_type": "markdown",
   "id": "antique-knock",
   "metadata": {},
   "source": [
    "## Primera *(Scene)*"
   ]
  },
  {
   "cell_type": "markdown",
   "id": "drawn-dylan",
   "metadata": {},
   "source": [
    "Manin genera video al rederizar escenas *Scenes*. Hay clases especiales que tienen un método de contrucción `construct` que desvribe cómo la animación debería ser renderizada. (Para bien, no hay habría problema si no estás familiarizado con Python o terminología de programación orientada a objetos como *class* o *method*)"
   ]
  },
  {
   "cell_type": "code",
   "execution_count": null,
   "id": "complicated-retirement",
   "metadata": {},
   "outputs": [],
   "source": [
    "%%manim -qm CircleToSquare\n",
    "\n",
    "class CircleToSquare(Scene):\n",
    "    def construct(self):\n",
    "        blue_circle = Circle(color=BLUE, fill_opacity=0.5)          # Se crea directamente un círculo con opacidad 0.5 y color azul\n",
    "        green_square = Square(color=GREEN, fill_opacity=0.8)        # Se crea directamente un cuadrado con opacidad 0.8 y color verde\n",
    "        self.play(Create(blue_circle))                              # Animación de creación del círculo azul\n",
    "        self.wait()                                                 # Espera (predeterminada 1 segundo)\n",
    "        \n",
    "        self.play(Transform(blue_circle, green_square))             # Transformación del círculo azul en el cuadrado verde\n",
    "        self.wait()"
   ]
  },
  {
   "cell_type": "markdown",
   "id": "tutorial-kelly",
   "metadata": {},
   "source": [
    "Empecemos a explicar paso a paso el código. Primero\n",
    "```\n",
    "%%manim -qm CircleToSquare\n",
    "```\n",
    "Es un *comando mágico*, solo funciona dentro de Jupyter notebooks. Es muy similar a como llamarías a `manim` desde una terminal: El texto `-qm` controla la calidad del renderizado, Es un atajo a `--quality=m`, calidad de renderizado *medio*. Quiere decir que el video se renderizará en 720p con 30 fps. (Intenta cambiarlo por `-qh` o `-ql` para *alta* y *baja* calidad, respectivamente)\n",
    "\n",
    "Finalmente, `CircleToSquare` es el nombre de la clase de escena que desea renderizar en esta celda en particular, lo que ya nos lleva a las siguientes líneas:\n",
    "```py\n",
    "class CircleToSquare(Scene):\n",
    "    def construct(self):\n",
    "        [...]\n",
    "```\n",
    "Esto deine una escena Manim llamada `CircleToSquare`, y define un método `construct` para el video. El contenido del método `construct` describe que exactamente se renderizará en el video. \n",
    "```py\n",
    "circulo_azul = Circle(color=BLUE, fill_opacity=0.5)\n",
    "cuadrado_verde = Square(color=GREEN, fill_opacity=0.8)\n",
    "```\n",
    "Las primeras dos líneas crean un círculo `Circle` y un cuadrado `Square` con un color especificado y la opacidad del relleno. Aunque, estos objetos aún no se encuentran añadidos a la escena! Para hacerlo, puedes usar `self.add`, o también ...\n",
    "```py\n",
    "self.play(Create(circulo_azul))\n",
    "self.wait()\n",
    "```\n",
    "... al reproducir una animación que añada el objeto Manim (*Mobject*) a la escena. Dentro del método, `self` se refiere a la escena actual, `self.play(my_animation)` puede ser leído como \"*Esta escena debería reproducir mi animación.*\" \n",
    "\n",
    "`Create` es una animación, pero hay muchos otros (por ejemplo `FadeIn`, o `DrawBorderThenFill` – Puede intentarlo arriba). El `self.wait()` Llama exactamente lo que estás pensando: Esto pausa el video por un rato (por defecto: un segundo). Prueba a cambiarlo por `self.wait(2)` para una pausa de dos segundos, entre otros.\n",
    "\n",
    "Las últimas dos líneas,\n",
    "```\n",
    "self.play(Transform(circulo_azul, cuadrado_verde))\n",
    "self.wait()\n",
    "```\n",
    "Son responsables de la transformación del circulo azul en un cuadrado verde (más un segundo después de la animación)."
   ]
  },
  {
   "cell_type": "markdown",
   "id": "polyphonic-sucking",
   "metadata": {},
   "source": [
    "## Posicionando Mobjects y moviéndolos alrededor"
   ]
  },
  {
   "cell_type": "markdown",
   "id": "pursuant-bubble",
   "metadata": {},
   "source": [
    "Nuevo problema: Queremos crear una escena donde un círculo es creado y simultáneamente un texto es escrito debajo de este. Podemos reusar nuestro círculo azul de arriba, y después añadir código nuevo:"
   ]
  },
  {
   "cell_type": "code",
   "execution_count": null,
   "id": "dedicated-wiring",
   "metadata": {},
   "outputs": [],
   "source": [
    "%%manim -qm HelloCircle\n",
    "\n",
    "class HelloCircle(Scene):\n",
    "    def construct(self):\n",
    "        # blue_circle = Circle(color=BLUE, fill_opacity=0.5)\n",
    "        # También podemos crear un circulo \"plano\" y añadirle los atributos deseados via configurando métodos\n",
    "        circle = Circle()\n",
    "        blue_circle = circle.set_color(BLUE).set_opacity(0.5)\n",
    "        \n",
    "        label = Text(\"Un círculo salvaje aparece UwU!\")\n",
    "        label.next_to(blue_circle, DOWN, buff=0.5)\n",
    "        \n",
    "        self.play(Create(blue_circle), Write(label))\n",
    "        self.wait()"
   ]
  },
  {
   "cell_type": "markdown",
   "id": "quick-temperature",
   "metadata": {},
   "source": [
    "Aparentemente, el texto se puede representar utilizando un `Text` Mobject, y la posición deseada se logra por la línea\n",
    "```py\n",
    "label.next_to(blue_circle, DOWN, buff=0.5)\n",
    "```\n",
    "Los Mobjects tienen algunos métodos para posicionar, `next_to` es uno de ellos (`shift`, `to_edge`,` to_corner`, `move_to`) son algunos otros. \n",
    "Para `next_to`, el primer argumento que se pasa (`blue_circle`) describe al lado de que objeto debe estar colocado el `label`. \n",
    "El segundo argumento, `DOWN`, describe la dirección (intente cambiarla a `LEFT`, `UP` o `RIGHT` en su lugar).\n",
    "Y finalmente, `buff = 0.5` controla la \"distancia del búfer\" entre `blue_circle` y `label`, aumentar este valor empujará `label` más hacia abajo.\n",
    "\n",
    "Pero también tenga en cuenta que la llamada `self.play` ha cambiado: es posible pasar varios argumentos de animación a `self.play`, luego se reproducirán simultáneamente. Si quieres animarlos uno tras otro, reemplace el `self.play` con las líneas\n",
    "```py\n",
    "self.play(Create(blue_circle))\n",
    "self.play(Write(label))\n",
    "```\n",
    "y mira lo que pasa.\n",
    "\n",
    "Por cierto, los Mobjects naturalmente también tienen métodos relacionados con no posicionamiento: por ejemplo, para obtener nuestro círculo azul, también podríamos crear uno predeterminado y luego establecer color y opacidad:\n",
    "```py\n",
    "circle = Circle()\n",
    "blue_transparent_circle = circle.set_color(BLUE)\n",
    "blue_circle = blue_transparent_circle.set_opacity(0.5)\n",
    "```\n",
    "Una versión más corta es\n",
    "```py\n",
    "blue_circle = Circle().set_color(BLUE).set_opacity(0.5)\n",
    "```\n",
    "Por ahora, nos quedaremos con la configuración de los atributos directamente en la llamada a `círculo`."
   ]
  },
  {
   "cell_type": "markdown",
   "id": "composed-solomon",
   "metadata": {},
   "source": [
    "## Llamada a los Métodos de Animación: El sintaxis `.animate`"
   ]
  },
  {
   "cell_type": "markdown",
   "id": "opponent-institution",
   "metadata": {},
   "source": [
    "En el último ejemplo encontramos que el método `.next_to`,uno de los muchos métodos que modifica los Mobjects de una forma u otra. Pero si queremos animar cómo un Mobject cambia cuando uno de estos métodos es aplicado, es decir, cuando usamos `.shift` o `.rotate` un Mobject, o tal vez `.scale`. El sintaxis `.animate` es la respuesta a esta pregunta."
   ]
  },
  {
   "cell_type": "code",
   "execution_count": null,
   "id": "formal-bargain",
   "metadata": {},
   "outputs": [],
   "source": [
    "%%manim -qm CircleAnnouncement\n",
    "\n",
    "class CircleAnnouncement(Scene):\n",
    "    def construct(self):\n",
    "        blue_circle = Circle(color=BLUE, fill_opacity=0.5)\n",
    "        announcement = Text(\"Let us draw a circle.\")\n",
    "        \n",
    "        self.play(Write(announcement))\n",
    "        self.wait()\n",
    "        \n",
    "        self.play(announcement.animate.next_to(blue_circle, UP, buff=0.5))\n",
    "        self.play(Create(blue_circle))"
   ]
  },
  {
   "cell_type": "markdown",
   "id": "attractive-citizenship",
   "metadata": {},
   "source": [
    "Donde normalmente usaríamos `announcement.next_to(blue_circle, UP, buff=0.5)` para posicionar el texto sin animación, podemos anteponer `.animate` al llamar al método para cambiar la aplicación de un método en una animación que puede ser reproducida usando `self.play`. Esto funciona con todos los métodos que modifican un Mobjects de alguna forma:"
   ]
  },
  {
   "cell_type": "code",
   "execution_count": null,
   "id": "primary-postage",
   "metadata": {},
   "outputs": [],
   "source": [
    "%%manim -qm AnimateSyntax\n",
    "\n",
    "class AnimateSyntax(Scene):\n",
    "    def construct(self):\n",
    "        triangle = Triangle(color=RED, fill_opacity=1)\n",
    "        self.play(DrawBorderThenFill(triangle))\n",
    "        self.play(triangle.animate.shift(LEFT))\n",
    "        self.play(triangle.animate.shift(RIGHT).scale(2))\n",
    "        self.play(triangle.animate.rotate(PI/3))"
   ]
  },
  {
   "cell_type": "markdown",
   "id": "prompt-reaction",
   "metadata": {},
   "source": [
    "En la primera animación el triángulo es creado, en la segundo, es desplazado a la izquierda, después en la tercero es desplazado nuevmante a la derecha y simultáneamente escalado en un factor de 2, y finalmente en la cuarta animación el triángulo es rotado en un ángulo de $\\pi/3$."
   ]
  },
  {
   "cell_type": "markdown",
   "id": "expired-stomach",
   "metadata": {},
   "source": [
    "Al observar detenidamente la última animación de la escena anterior, la rotación, se puede observar que no es *realmente* una rotación. El triángulo se transforma en una versión rotada de sí mismo, pero durante la animación, sus vértices no se mueven a lo largo de un arco (como lo harían al rotar el triángulo alrededor de su centro), sino a lo largo de líneas rectas, lo que da la impresión de que el triángulo primero se contrae un poco y luego vuelve a crecer.\n",
    "\n",
    "En realidad, esto **no es un error**, sino una consecuencia del funcionamiento de la sintaxis `.animate`: la animación se construye especificando el estado inicial (el Mobject `triangle` en el ejemplo anterior) y el estado final (el Mobject rotado, `triangle.rotate(PI/3)`). Manim intenta interpolar entre estos dos, pero desconoce que se desea rotar el triángulo suavemente. El siguiente ejemplo lo ilustra claramente:"
   ]
  },
  {
   "cell_type": "code",
   "execution_count": null,
   "id": "recent-department",
   "metadata": {},
   "outputs": [],
   "source": [
    "%%manim -qm DifferentRotations\n",
    "\n",
    "class DifferentRotations(Scene):\n",
    "    def construct(self):\n",
    "        left_square = Square(color=BLUE, fill_opacity=0.7).shift(2*LEFT)\n",
    "        right_square = Square(color=GREEN, fill_opacity=0.7).shift(2*RIGHT)\n",
    "        self.play(left_square.animate.rotate(PI), Rotate(right_square, angle=PI), run_time=2)\n",
    "        self.wait()"
   ]
  },
  {
   "cell_type": "markdown",
   "id": "urban-liver",
   "metadata": {},
   "source": [
    "## Composición tipográfica de matemáticas"
   ]
  },
  {
   "cell_type": "markdown",
   "id": "divine-evanescence",
   "metadata": {},
   "source": [
    "Manim admite la renderización y animación de LaTeX, el lenguaje de marcado en el que se suelen escribir las matemáticas. Aprende más sobre ello [en este tutorial de 30 minutos](https://www.overleaf.com/learn/latex/Learn_LaTeX_in_30_minutes).\n",
    "\n",
    "Aquí tienes un ejemplo sencillo para trabajar con LaTeX en Manim:"
   ]
  },
  {
   "cell_type": "code",
   "execution_count": null,
   "id": "bulgarian-violin",
   "metadata": {},
   "outputs": [],
   "source": [
    "%%manim -qm CauchyIntegralFormula\n",
    "\n",
    "class CauchyIntegralFormula(Scene):\n",
    "    def construct(self):\n",
    "        formula = MathTex(r\"[z^n]f(z) = \\frac{1}{2\\pi i}\\oint_{\\gamma} \\frac{f(z)}{z^{n+1}}~dz\")\n",
    "        self.play(Write(formula), run_time=3)\n",
    "        self.wait()"
   ]
  },
  {
   "cell_type": "markdown",
   "id": "potential-crowd",
   "metadata": {},
   "source": [
    "Como demuestra este ejemplo, `MathTex` permite renderizar cadenas LaTeX simples (modo matemático). Si desea renderizar LaTeX en \"modo normal\", utilice `Tex`.\n",
    "\n",
    "Por supuesto, Manim también puede ayudarle a visualizar transformaciones de fórmulas tipográficas. Considere el siguiente ejemplo:"
   ]
  },
  {
   "cell_type": "code",
   "execution_count": null,
   "id": "proof-multiple",
   "metadata": {},
   "outputs": [],
   "source": [
    "%%manim -qm TransformEquation\n",
    "\n",
    "class TransformEquation(Scene):\n",
    "    def construct(self):\n",
    "        eq1 = MathTex(\"42 {{ a^2 }} + {{ b^2 }} = {{ c^2 }}\")\n",
    "        eq2 = MathTex(\"42 {{ a^2 }} = {{ c^2 }} - {{ b^2 }}\")\n",
    "        eq3 = MathTex(r\"a^2 = \\frac{c^2 - b^2}{42}\")\n",
    "        self.add(eq1)\n",
    "        self.wait()\n",
    "        self.play(TransformMatchingTex(eq1, eq2))\n",
    "        self.wait()\n",
    "        self.play(TransformMatchingShapes(eq2, eq3))\n",
    "        self.wait()"
   ]
  },
  {
   "cell_type": "markdown",
   "id": "fuzzy-output",
   "metadata": {},
   "source": [
    "En este último ejemplo, `eq1` y `eq2` tienen posiciones de llaves dobles donde, convencionalmente, no habría ninguna en LaTeX simple. Esta es una notación especial de Manim que agrupa los Mobjects `eq1` y `eq2` resultantes de `Tex` de una manera particular.\n",
    "\n",
    "Esta notación especial es útil al usar la animación `TransformMatchingTex`: transforma partes con cadenas TeX iguales (por ejemplo, `a^2` a `a^2`) entre sí. Sin la notación especial, la ecuación se considera una sola cadena TeX larga. En comparación, `TransformMatchingShapes` es menos inteligente: simplemente intenta transformar formas que parecen iguales entre sí; sin embargo, suele ser muy útil."
   ]
  },
  {
   "cell_type": "markdown",
   "id": "monetary-sleep",
   "metadata": {},
   "source": [
    "Puedes encontrar algunos ejemplos más avanzados que ilustran conceptos más especializados en la biblioteca a continuación. ¡Anímate a experimentar y modificarlos como hiciste con los anteriores! Explora la [documentación](https://docs.manim.community) para hacerte una idea de las cosas que ya están implementadas y consulta el código fuente si quieres crear objetos más complejos tú mismo.\n",
    "\n",
    "La [comunidad](https://www.manim.community/discord/) también estará encantada de responder preguntas, ¡y esperamos que compartas tus fantásticos proyectos! **¡Feliz *manimación*!**"
   ]
  },
  {
   "cell_type": "markdown",
   "id": "attractive-fight",
   "metadata": {},
   "source": [
    "## Ejemplos más especializados"
   ]
  },
  {
   "cell_type": "markdown",
   "id": "editorial-growth",
   "metadata": {},
   "source": [
    "Antes de profundizar en estos ejemplos, tenga en cuenta que ilustran conceptos especializados y su objetivo es darle una idea de cómo se configuran y codifican escenas más complejas. Los ejemplos no incluyen explicaciones adicionales y **no están pensados ​​como recursos de aprendizaje (de nivel básico)**."
   ]
  },
  {
   "cell_type": "code",
   "execution_count": null,
   "id": "unexpected-berlin",
   "metadata": {},
   "outputs": [],
   "source": [
    "%%manim -qm TransformacionesYVectores\n",
    "\n",
    "from manim import *\n",
    "import numpy as np\n",
    "\n",
    "class TransformacionesYVectores(Scene):\n",
    "    def construct(self):\n",
    "        # === Introducción ===\n",
    "        title = Text(\"Álgebra Lineal en Ingeniería\", font_size=42, weight=BOLD)\n",
    "        subtitle = Text(\"Matrices, Vectores y Transformaciones\", font_size=30)\n",
    "        subtitle.next_to(title, DOWN, buff=0.4)\n",
    "        self.play(Write(title), run_time=1.5)\n",
    "        self.play(FadeIn(subtitle, shift=UP))\n",
    "        self.wait(1.5)\n",
    "        self.play(FadeOut(title), FadeOut(subtitle))\n",
    "\n",
    "        # === Parte 1: Vector en el plano ===\n",
    "        axes = Axes(\n",
    "            x_range=[-3, 3, 1],\n",
    "            y_range=[-2, 4, 1],\n",
    "            axis_config={\"color\": BLUE},\n",
    "        )\n",
    "        labels = axes.get_axis_labels(x_label=\"x\", y_label=\"y\")\n",
    "        self.play(Create(axes), Write(labels))\n",
    "        self.wait(0.5)\n",
    "\n",
    "        # Vector original\n",
    "        v = np.array([2, 1, 0])\n",
    "        vec_original = Arrow(ORIGIN, v, buff=0, color=YELLOW)\n",
    "        v_label = MathTex(r\"\\vec{v} = \\begin{bmatrix} 2 \\\\ 1 \\end{bmatrix}\", color=YELLOW)\n",
    "        v_label.next_to(v, RIGHT, buff=0.3)\n",
    "        self.play(Create(vec_original), Write(v_label))\n",
    "        self.wait(1)\n",
    "\n",
    "        # === Parte 2: Matriz de rotación (60 grados) ===\n",
    "        theta = PI / 3  # 60°\n",
    "        R = np.array([\n",
    "            [np.cos(theta), -np.sin(theta), 0],\n",
    "            [np.sin(theta),  np.cos(theta), 0],\n",
    "            [0,              0,             1]\n",
    "        ])\n",
    "        v_rot = R @ v\n",
    "\n",
    "        # Mostrar matriz\n",
    "        R_tex = MathTex(\n",
    "            r\"R(\\theta) = \\begin{bmatrix} \\cos\\theta & -\\sin\\theta \\\\ \\sin\\theta & \\cos\\theta \\end{bmatrix}\",\n",
    "            color=RED\n",
    "        )\n",
    "        R_tex.to_edge(UP)\n",
    "        self.play(Write(R_tex))\n",
    "        self.wait(0.5)\n",
    "\n",
    "        # Vector rotado\n",
    "        vec_rot = Arrow(ORIGIN, v_rot, buff=0, color=RED)\n",
    "        self.play(TransformFromCopy(vec_original, vec_rot))\n",
    "        self.wait(1)\n",
    "\n",
    "        # === Parte 3: Transformar una figura (letra F) ===\n",
    "        f_points = [\n",
    "            np.array([0, 0, 0]),\n",
    "            np.array([0, 2, 0]),\n",
    "            np.array([0.4, 2, 0]),\n",
    "            np.array([0.4, 1.5, 0]),\n",
    "            np.array([0.8, 1.5, 0]),\n",
    "            np.array([0.8, 0, 0])\n",
    "        ]\n",
    "        f_original = Polygon(*f_points, color=YELLOW, fill_opacity=0.3)\n",
    "        self.play(Create(f_original))\n",
    "        self.wait(0.5)\n",
    "\n",
    "        f_rot_points = [R @ p for p in f_points]\n",
    "        f_rotated = Polygon(*f_rot_points, color=RED, fill_opacity=0.3)\n",
    "        self.play(TransformFromCopy(f_original, f_rotated))\n",
    "        self.wait(1.5)\n",
    "\n",
    "        # === Parte 4: Aplicaciones (versión segura sin t2c) ===\n",
    "        self.play(\n",
    "            FadeOut(axes),\n",
    "            FadeOut(labels),\n",
    "            FadeOut(vec_original),\n",
    "            FadeOut(vec_rot),\n",
    "            FadeOut(v_label),\n",
    "            FadeOut(R_tex),\n",
    "            FadeOut(f_original),\n",
    "            FadeOut(f_rotated)\n",
    "        )\n",
    "\n",
    "        app_title = Text(\"Aplicaciones en Ingeniería\", font_size=36, weight=BOLD)\n",
    "        app1 = Text(\"• Gráficos por computadora\", font_size=30, color=BLUE)\n",
    "        app2 = Text(\"• Robótica y cinemática\", font_size=30, color=GREEN)\n",
    "        app3 = Text(\"• Simulación de sistemas\", font_size=30, color=PURPLE)\n",
    "\n",
    "        apps = VGroup(app_title, app1, app2, app3).arrange(DOWN, aligned_edge=LEFT, buff=0.5)\n",
    "        apps.to_edge(UP, buff=1)\n",
    "\n",
    "        self.play(Write(app_title))\n",
    "        self.wait(0.4)\n",
    "        self.play(Write(app1))\n",
    "        self.wait(0.4)\n",
    "        self.play(Write(app2))\n",
    "        self.wait(0.4)\n",
    "        self.play(Write(app3))\n",
    "        self.wait(2)\n",
    "\n",
    "        self.play(FadeOut(apps))\n",
    "\n",
    "        # === Cierre ===\n",
    "        end_text = Text(\"¡El poder de las matrices\\nestá en transformar el mundo!\", font_size=36, line_spacing=1.2)\n",
    "        self.play(Write(end_text))\n",
    "        self.wait(2)\n",
    "        self.play(FadeOut(end_text))"
   ]
  },
  {
   "cell_type": "code",
   "execution_count": null,
   "id": "aware-dispatch",
   "metadata": {},
   "outputs": [],
   "source": [
    "%%manim -qm PlotExample\n",
    "\n",
    "class PlotExample(Scene):\n",
    "    def construct(self):\n",
    "        plot_axes = Axes(\n",
    "            x_range=[0, 1, 0.05],\n",
    "            y_range=[0, 1, 0.05],\n",
    "            x_length=9,\n",
    "            y_length=5.5,\n",
    "            axis_config={\n",
    "                \"numbers_to_include\": np.arange(0, 1 + 0.1, 0.1),\n",
    "                \"font_size\": 24,\n",
    "            },\n",
    "            tips=False, # Este codigo elimina las flechas de los ejes\n",
    "        )\n",
    "\n",
    "        y_label = plot_axes.get_y_axis_label(\"y\", edge=LEFT, direction=LEFT, buff=0.4)  # Este código añade una etiqueta al eje y\n",
    "        x_label = plot_axes.get_x_axis_label(\"x\")                                       # Este código añade una etiqueta al eje x\n",
    "        plot_labels = VGroup(x_label, y_label)                                          # Agrupa las etiquetas de los ejes\n",
    "\n",
    "        plots = VGroup()\n",
    "        for n in np.arange(1, 20 + 0.5, 0.5):                                           # Este código itera sobre un rango de valores de n desde 1 hasta 20 con incrementos de 0.5\n",
    "            plots += plot_axes.plot(lambda x: x**n, color=WHITE)\n",
    "            plots += plot_axes.plot(\n",
    "                lambda x: x**(1 / n), color=WHITE, use_smoothing=False\n",
    "            )\n",
    "\n",
    "        extras = VGroup()\n",
    "        extras += plot_axes.get_horizontal_line(plot_axes.c2p(1, 1, 0), color=BLUE)     # Este código añade una línea horizontal en y=1 \n",
    "        extras += plot_axes.get_vertical_line(plot_axes.c2p(1, 1, 0), color=BLUE)       # Este código añade una línea vertical en x=1\n",
    "        extras += Dot(point=plot_axes.c2p(1, 1, 0), color=YELLOW)                       # Este código añade un punto amarillo en la intersección de las líneas horizontales y verticales\n",
    "        title = Title(\n",
    "            r\"Graphs of $y=x^{\\frac{1}{n}}$ and $y=x^n (n=1, 1.5, 2, 2.5, 3, \\dots, 20)$\",\n",
    "            include_underline=False,\n",
    "            font_size=40,\n",
    "        )\n",
    "        \n",
    "        self.play(Write(title))\n",
    "        self.play(Create(plot_axes), Create(plot_labels), Create(extras))\n",
    "        self.play(AnimationGroup(*[Create(plot) for plot in plots], lag_ratio=0.05))"
   ]
  },
  {
   "cell_type": "code",
   "execution_count": null,
   "id": "significant-toner",
   "metadata": {},
   "outputs": [],
   "source": [
    "%%manim -qm ErdosRenyiGraph\n",
    "\n",
    "import networkx as nx\n",
    "\n",
    "nxgraph = nx.erdos_renyi_graph(14, 0.5)\n",
    "\n",
    "class ErdosRenyiGraph(Scene):\n",
    "    def construct(self):\n",
    "        G = Graph.from_networkx(nxgraph, layout=\"spring\", layout_scale=3.5)\n",
    "        self.play(Create(G))\n",
    "        self.play(*[G[v].animate.move_to(5*RIGHT*np.cos(ind/7 * PI) +\n",
    "                                         3*UP*np.sin(ind/7 * PI))\n",
    "                    for ind, v in enumerate(G.vertices)])\n",
    "        self.play(Uncreate(G))"
   ]
  },
  {
   "cell_type": "code",
   "execution_count": null,
   "id": "electrical-forty",
   "metadata": {},
   "outputs": [],
   "source": [
    "%%manim -qm CodeFromString\n",
    "\n",
    "class CodeFromString(Scene):\n",
    "    def construct(self):\n",
    "        code = '''from manim import Scene, Square\n",
    "\n",
    "class FadeInSquare(Scene):\n",
    "    def construct(self):\n",
    "        s = Square()\n",
    "        self.play(FadeIn(s))\n",
    "        self.play(s.animate.scale(2))\n",
    "        self.wait()\n",
    "'''\n",
    "        rendered_code = Code(\n",
    "            code_string=code, tab_width=4, background=\"window\",\n",
    "            language=\"python\", paragraph_config=dict(font=\"Monospace\")\n",
    "        )\n",
    "        self.play(Write(rendered_code))\n",
    "        self.wait(2)"
   ]
  },
  {
   "cell_type": "code",
   "execution_count": null,
   "id": "funny-reservoir",
   "metadata": {},
   "outputs": [],
   "source": [
    "%%manim -qm OpeningManim\n",
    "\n",
    "class OpeningManim(Scene):\n",
    "    def construct(self):\n",
    "        title = Tex(r\"This is some \\LaTeX\")\n",
    "        basel = MathTex(r\"\\sum_{n=1}^\\infty \\frac{1}{n^2} = \\frac{\\pi^2}{6}\")\n",
    "        VGroup(title, basel).arrange(DOWN)\n",
    "        self.play(\n",
    "            Write(title),\n",
    "            FadeIn(basel, shift=UP),\n",
    "        )\n",
    "        self.wait()\n",
    "\n",
    "        transform_title = Tex(\"That was a transform\")\n",
    "        transform_title.to_corner(UP + LEFT)\n",
    "        self.play(\n",
    "            Transform(title, transform_title),\n",
    "            LaggedStart(*[FadeOut(obj, shift=DOWN) for obj in basel]),\n",
    "        )\n",
    "        self.wait()\n",
    "\n",
    "        grid = NumberPlane(x_range=(-10, 10, 1), y_range=(-6.0, 6.0, 1))\n",
    "        grid_title = Tex(\"This is a grid\")\n",
    "        grid_title.scale(1.5)\n",
    "        grid_title.move_to(transform_title)\n",
    "\n",
    "        self.add(grid, grid_title)\n",
    "        self.play(\n",
    "            FadeOut(title),\n",
    "            FadeIn(grid_title, shift=DOWN),\n",
    "            Create(grid, run_time=3, lag_ratio=0.1),\n",
    "        )\n",
    "        self.wait()\n",
    "\n",
    "        grid_transform_title = Tex(\n",
    "            r\"That was a non-linear function \\\\ applied to the grid\"\n",
    "        )\n",
    "        grid_transform_title.move_to(grid_title, UL)\n",
    "        grid.prepare_for_nonlinear_transform()\n",
    "        self.play(\n",
    "            grid.animate.apply_function(\n",
    "                lambda p: p + np.array([np.sin(p[1]), np.sin(p[0]), 0])\n",
    "            ),\n",
    "            run_time=3,\n",
    "        )\n",
    "        self.wait()\n",
    "        self.play(Transform(grid_title, grid_transform_title))\n",
    "        self.wait()"
   ]
  }
 ],
 "metadata": {
  "kernelspec": {
   "display_name": "Python 3 (ipykernel)",
   "language": "python",
   "name": "python3"
  },
  "language_info": {
   "codemirror_mode": {
    "name": "ipython",
    "version": 3
   },
   "file_extension": ".py",
   "mimetype": "text/x-python",
   "name": "python",
   "nbconvert_exporter": "python",
   "pygments_lexer": "ipython3",
   "version": "3.11.11"
  }
 },
 "nbformat": 4,
 "nbformat_minor": 5
}
